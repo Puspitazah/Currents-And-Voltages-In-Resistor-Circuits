{
  "nbformat": 4,
  "nbformat_minor": 0,
  "metadata": {
    "colab": {
      "provenance": []
    },
    "kernelspec": {
      "name": "python3",
      "display_name": "Python 3"
    },
    "language_info": {
      "name": "python"
    }
  },
  "cells": [
    {
      "cell_type": "markdown",
      "source": [
        "#**PROJECT-1 PRAKTIKUM FISIKA KOMPUTASI 118**"
      ],
      "metadata": {
        "id": "kL3VQS0c_EOK"
      }
    },
    {
      "cell_type": "markdown",
      "source": [
        "---\n",
        "***Currents and Voltages in Resistor Circuits***\n",
        "---\n",
        "\n",
        "**KELOMPOK 2 - Fisika B**\n",
        "1.   Dhinar Hidayath \t\t       (1306621054)\n",
        "2.   Khansa Farras Callista\tA. (1306621067)\n",
        "3.   Puspa Zuhrotul Kamilah\t   (1306621058)\n",
        "4.   Salma Mardhiyah     \t     (1306621061)\n"
      ],
      "metadata": {
        "id": "s_MzXBe4Bz7o"
      }
    },
    {
      "cell_type": "markdown",
      "source": [
        "\n",
        "#**GAUSS - NAIVE**"
      ],
      "metadata": {
        "id": "sVxu0PaSRG4O"
      }
    },
    {
      "cell_type": "code",
      "source": [
        "def gauss_naive(Ab):\n",
        "    Ab = Ab.astype(float)\n",
        "    print(\"\\n\", \"=\"*22, \"PENYELESAIAN DENGAN GAUSS-NAIVE\",\"=\"*21, \"\\n\")\n",
        "\n",
        "    for i in range(n):\n",
        "        if np.fabs(Ab[0, 0]) < 1.0e-10:\n",
        "            print('Divide by zero detected!\\n')\n",
        "            return\n",
        "            \n",
        "        for j in range(i+1, n):\n",
        "            faktor = Ab[j][i]/Ab[i][i]\n",
        "            for k in range(n+1):\n",
        "                Ab[j][k] = Ab[j][k] - faktor * Ab[i][k]\n",
        "            print(\"Untuk kolom ke-{} baris ke-{} :\".format(i+1, j+1))\n",
        "            print(Ab, \"\\n\")\n",
        "        \n",
        "    # Back Substitution\n",
        "    x[n-1] = Ab[n-1][n]/Ab[n-1][n-1]\n",
        "    for i in range(n-2, -1, -1):\n",
        "        sum = Ab[i][n]\n",
        "        \n",
        "        for j in range(i+1, n):\n",
        "            sum = sum - Ab[i,j] * x[j]\n",
        "        x[i] = sum/Ab[i][i]\n",
        "\n",
        "    print(\"=\"*77)\n",
        "    print(\"\\nDidapat Akar Solusi Persamaan \\nI1 = {} A\\nI2 = {} A\\nI3 = {} A\\n\".format(x[0], x[1], x[-1]))\n",
        "\n",
        "    stop = timeit.default_timer()\n",
        "    print('Running Time : ', stop - start, 'detik')\n",
        "    return \n",
        "\n",
        "import numpy as np\n",
        "import timeit\n",
        "\n",
        "start = timeit.default_timer()\n",
        "\n",
        "# Judul Program\n",
        "print(\"======= MENCARI ARUS PADA RANGKAIAN LISTRIK DENGAN METODE GAUSS NAIVE =======\\n\")\n",
        "\n",
        "# Matriks yang digunakan\n",
        "print(\"Sistem Persamaan Linear \\n-6I1 - 4I2 - 2I3  = 20 \\n-4I1 + 18I2 - 8I3 = 0 \\n-2I1 - 8I2 + 15I3 = 0\")\n",
        "\n",
        "A = np.array([[6,-4,-2], [-4,18,-8], [-2,-8,15]])\n",
        "b = np.array([20, 0, 0])\n",
        "n = len(b)\n",
        "x = np.zeros(n)\n",
        "Ab = np.column_stack((A, b))\n",
        "\n",
        "print(f\"\\nMatriks A : \\n{A}\\n\\nMatriks b :  \\n{np.transpose([b])}\")\n",
        "print(f\"\\nMaka, matriks untuk [A|b] : \\n{Ab}\")\n",
        "\n",
        "# Memanggil fungsi definisi Gauss-Naive\n",
        "solusi = gauss_naive(Ab)\n",
        "\n",
        "# SELESAI"
      ],
      "metadata": {
        "id": "yfnyrknV-xeH",
        "outputId": "8207b67d-a0e5-45f7-ea69-46a716f59ba8",
        "colab": {
          "base_uri": "https://localhost:8080/"
        }
      },
      "execution_count": null,
      "outputs": [
        {
          "output_type": "stream",
          "name": "stdout",
          "text": [
            "======= MENCARI ARUS PADA RANGKAIAN LISTRIK DENGAN METODE GAUSS NAIVE =======\n",
            "\n",
            "Sistem Persamaan Linear \n",
            "-6I1 - 4I2 - 2I3  = 20 \n",
            "-4I1 + 18I2 - 8I3 = 0 \n",
            "-2I1 - 8I2 + 15I3 = 0\n",
            "\n",
            "Matriks A : \n",
            "[[ 6 -4 -2]\n",
            " [-4 18 -8]\n",
            " [-2 -8 15]]\n",
            "\n",
            "Matriks b :  \n",
            "[[20]\n",
            " [ 0]\n",
            " [ 0]]\n",
            "\n",
            "Maka, matriks untuk [A|b] : \n",
            "[[ 6 -4 -2 20]\n",
            " [-4 18 -8  0]\n",
            " [-2 -8 15  0]]\n",
            "\n",
            " ====================== PENYELESAIAN DENGAN GAUSS-NAIVE ===================== \n",
            "\n",
            "Untuk kolom ke-1 baris ke-2 :\n",
            "[[ 6.         -4.         -2.         20.        ]\n",
            " [ 0.         15.33333333 -9.33333333 13.33333333]\n",
            " [-2.         -8.         15.          0.        ]] \n",
            "\n",
            "Untuk kolom ke-1 baris ke-3 :\n",
            "[[ 6.         -4.         -2.         20.        ]\n",
            " [ 0.         15.33333333 -9.33333333 13.33333333]\n",
            " [ 0.         -9.33333333 14.33333333  6.66666667]] \n",
            "\n",
            "Untuk kolom ke-2 baris ke-3 :\n",
            "[[ 6.         -4.         -2.         20.        ]\n",
            " [ 0.         15.33333333 -9.33333333 13.33333333]\n",
            " [ 0.          0.          8.65217391 14.7826087 ]] \n",
            "\n",
            "=============================================================================\n",
            "\n",
            "Didapat Akar Solusi Persamaan \n",
            "I1 = 5.175879396984924 A\n",
            "I2 = 1.9095477386934674 A\n",
            "I3 = 1.708542713567839 A\n",
            "\n",
            "Running Time :  0.009926559000177804 detik\n"
          ]
        }
      ]
    },
    {
      "cell_type": "markdown",
      "source": [
        "#**GAUSS - JORDAN**"
      ],
      "metadata": {
        "id": "SO3-Cfso4uHl"
      }
    },
    {
      "cell_type": "code",
      "source": [],
      "metadata": {
        "id": "8x3L7pXw4qf-"
      },
      "execution_count": null,
      "outputs": []
    },
    {
      "cell_type": "markdown",
      "source": [
        "#**MATRIKS BALIKAN**"
      ],
      "metadata": {
        "id": "nzU3AbCU4wFo"
      }
    },
    {
      "cell_type": "code",
      "source": [],
      "metadata": {
        "id": "LndsoBvP4woZ"
      },
      "execution_count": null,
      "outputs": []
    },
    {
      "cell_type": "markdown",
      "source": [
        "#**DEKOMPOSISI LU**"
      ],
      "metadata": {
        "id": "Z1EFyeeQ4wu1"
      }
    },
    {
      "cell_type": "code",
      "source": [],
      "metadata": {
        "id": "OunLy_ZT4xFc"
      },
      "execution_count": null,
      "outputs": []
    }
  ]
}